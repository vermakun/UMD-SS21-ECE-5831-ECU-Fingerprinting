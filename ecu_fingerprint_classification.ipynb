{
  "nbformat": 4,
  "nbformat_minor": 0,
  "metadata": {
    "colab": {
      "name": "ECE_5831_Project_Method2.ipynb",
      "provenance": [],
      "collapsed_sections": [
        "SdHlLe4J6hmh"
      ],
      "mount_file_id": "17WAU68z2KX-sm4JvI6NIyv8aTV7EBxX_",
      "authorship_tag": "ABX9TyM+dT4bPGO7e+wMuDW2ml3P",
      "include_colab_link": true
    },
    "kernelspec": {
      "name": "python3",
      "display_name": "Python 3"
    },
    "language_info": {
      "name": "python"
    }
  },
  "cells": [
    {
      "cell_type": "markdown",
      "metadata": {
        "id": "view-in-github",
        "colab_type": "text"
      },
      "source": [
        "<a href=\"https://colab.research.google.com/github/vermakun/UMD-SS21-ECE-5831-ECU-Fingerprinting/blob/main/ecu_fingerprint_classification.ipynb\" target=\"_parent\"><img src=\"https://colab.research.google.com/assets/colab-badge.svg\" alt=\"Open In Colab\"/></a>"
      ]
    },
    {
      "cell_type": "markdown",
      "metadata": {
        "id": "SdHlLe4J6hmh"
      },
      "source": [
        "# In-Vehicle Security using Pattern Recognition Techniques\n",
        "---\n",
        "*ECE 5831 - 08/17/2021 - Kunaal Verma*"
      ]
    },
    {
      "cell_type": "markdown",
      "metadata": {
        "id": "0Dg_yyZiDo-F"
      },
      "source": [
        "The goal of this project is to train a machine learning model to recognize unique signatures of each ECU in order to identify when intrusive messages are being fed to the network.\n",
        "\n",
        "The dataset for this project consists of several time-series recordings of clock pulses produced by several ECUs on an in-vehicle CAN High network.\n",
        "\n",
        "The test network has 8 trusted ECUs, with 30 records of 600 samples of the clock signal for each ECU.\n"
      ]
    },
    {
      "cell_type": "markdown",
      "metadata": {
        "id": "5Fttbp6kUSSn"
      },
      "source": [
        "# I. Initialization"
      ]
    },
    {
      "cell_type": "code",
      "metadata": {
        "colab": {
          "base_uri": "https://localhost:8080/"
        },
        "id": "sxYnSZl--TJA",
        "outputId": "3d777404-a22c-4058-df75-6bd374fea06c"
      },
      "source": [
        "### I. Initialization ###\n",
        "print('--- Intialize ---')\n",
        "\n",
        "import matplotlib.pyplot as plt\n",
        "import numpy as np\n",
        "import os\n",
        "import pandas as pd\n",
        "import re\n",
        "import seaborn as sn\n",
        "import sklearn.metrics as sm\n",
        "\n",
        "from google.colab import drive\n",
        "drive.mount('/content/drive')"
      ],
      "execution_count": 1,
      "outputs": [
        {
          "output_type": "stream",
          "text": [
            "--- Intialize ---\n",
            "Mounted at /content/drive\n"
          ],
          "name": "stdout"
        }
      ]
    },
    {
      "cell_type": "markdown",
      "metadata": {
        "id": "fEkNmDdR6_5c"
      },
      "source": [
        "# II. File Pre-conditioning\n"
      ]
    },
    {
      "cell_type": "code",
      "metadata": {
        "colab": {
          "base_uri": "https://localhost:8080/"
        },
        "id": "LvfZ1fMM9KW4",
        "outputId": "22b36258-56cb-439f-f291-b9a9ce8c663b"
      },
      "source": [
        "### II. File Pre-conditioning ###\n",
        "print('\\n--- Pre-condition Files ---\\n')\n",
        "\n",
        "# Dataset path\n",
        "datapath = 'drive/MyDrive/School/UMich Dearborn/SS21/ECE 5831/Project/Dataset'\n",
        "# datapath = './Dataset'\n",
        "\n",
        "print('Path to Dataset:')\n",
        "print(datapath)\n",
        "\n",
        "# List of files in directory, append to list recursively\n",
        "file_list = []\n",
        "for path, folders, files in os.walk(datapath):\n",
        "    for file in files:\n",
        "        file_list.append(os.path.join(path, file))\n",
        "\n",
        "# Sort file list by record number, but use a copy that contains leading zeros\n",
        "file_list0 = []\n",
        "for filename in file_list:\n",
        "    m = re.search('_[0-9]\\.', filename)\n",
        "    if m:\n",
        "      found = m.group(0)\n",
        "      filename = re.sub('_[0-9]\\.', found[0] + '0' + found[1:-1] + '.', filename)\n",
        "    file_list0.append(filename)\n",
        "\n",
        "file_list1 = dict(zip(file_list0,file_list))\n",
        "file_list2 = dict(sorted(file_list1.items(), key = lambda x:x[0]))\n",
        "\n",
        "# Produce sorted file lists\n",
        "file_list  = list(file_list2.values())  # Original list, properly sorted\n",
        "file_list0 = list(file_list2.keys())    # Modified list with leading zeros, sorted\n",
        "\n",
        "print('\\nAbsolute Paths to Records (Subset):')\n",
        "for filename in file_list[0:10]:\n",
        "  print(filename)"
      ],
      "execution_count": 2,
      "outputs": [
        {
          "output_type": "stream",
          "text": [
            "\n",
            "--- Pre-condition Files ---\n",
            "\n",
            "Path to Dataset:\n",
            "drive/MyDrive/School/UMich Dearborn/SS21/ECE 5831/Project/Dataset\n",
            "\n",
            "Absolute Paths to Records (Subset):\n",
            "drive/MyDrive/School/UMich Dearborn/SS21/ECE 5831/Project/Dataset/CAN1_2m_Thin_uns1/CAN1Aauns1_1.csv\n",
            "drive/MyDrive/School/UMich Dearborn/SS21/ECE 5831/Project/Dataset/CAN1_2m_Thin_uns1/CAN1Aauns1_2.csv\n",
            "drive/MyDrive/School/UMich Dearborn/SS21/ECE 5831/Project/Dataset/CAN1_2m_Thin_uns1/CAN1Aauns1_3.csv\n",
            "drive/MyDrive/School/UMich Dearborn/SS21/ECE 5831/Project/Dataset/CAN1_2m_Thin_uns1/CAN1Aauns1_4.csv\n",
            "drive/MyDrive/School/UMich Dearborn/SS21/ECE 5831/Project/Dataset/CAN1_2m_Thin_uns1/CAN1Aauns1_5.csv\n",
            "drive/MyDrive/School/UMich Dearborn/SS21/ECE 5831/Project/Dataset/CAN1_2m_Thin_uns1/CAN1Aauns1_6.csv\n",
            "drive/MyDrive/School/UMich Dearborn/SS21/ECE 5831/Project/Dataset/CAN1_2m_Thin_uns1/CAN1Aauns1_7.csv\n",
            "drive/MyDrive/School/UMich Dearborn/SS21/ECE 5831/Project/Dataset/CAN1_2m_Thin_uns1/CAN1Aauns1_8.csv\n",
            "drive/MyDrive/School/UMich Dearborn/SS21/ECE 5831/Project/Dataset/CAN1_2m_Thin_uns1/CAN1Aauns1_9.csv\n",
            "drive/MyDrive/School/UMich Dearborn/SS21/ECE 5831/Project/Dataset/CAN1_2m_Thin_uns1/CAN1Aauns1_10.csv\n"
          ],
          "name": "stdout"
        }
      ]
    },
    {
      "cell_type": "markdown",
      "metadata": {
        "id": "tERlmR1fYBXn"
      },
      "source": [
        "# III. Feature Extraction\n",
        "\n"
      ]
    },
    {
      "cell_type": "code",
      "metadata": {
        "colab": {
          "base_uri": "https://localhost:8080/"
        },
        "id": "kCLdgTdBRyjR",
        "outputId": "bad6bb61-0a79-4032-bfbb-075814c6cb79"
      },
      "source": [
        "### III. Feature Extraction ###\n",
        "print('\\n--- Extract Features ---\\n')\n",
        "\n",
        "!cp '/content/drive/MyDrive/School/UMich Dearborn/SS21/ECE 5831/Project/github/ecu_fingerprint_lib.py' .\n",
        "from ecu_fingerprint_lib import Record\n",
        "\n",
        "pkl_path = './ecu_fingerprint.pkl'\n",
        "\n",
        "if os.path.exists(pkl_path):\n",
        "\n",
        "  df = pd.read_pickle(pkl_path)\n",
        "  \n",
        "else:\n",
        "\n",
        "  # Dict instantiation\n",
        "  d = {}\n",
        "\n",
        "  # Iteratively build data dictionary\n",
        "  for i in np.arange(len(file_list0)):\n",
        "\n",
        "    filepath  = file_list[i]\n",
        "    filepath0 = file_list0[i]\n",
        "\n",
        "    print(filepath)\n",
        "\n",
        "    # Extract folder name of current record\n",
        "    folder = os.path.basename(os.path.dirname(filepath0))\n",
        "    filename = os.path.basename(filepath0)\n",
        "\n",
        "    # Extract record identifiers\n",
        "    id, pl, pm, did = folder.split('_')\n",
        "    filename = re.split(r'_|\\.',filename)\n",
        "\n",
        "    # Open File\n",
        "    with open(filepath) as file_name:\n",
        "      array = np.loadtxt(file_name, delimiter=\",\")\n",
        "    \n",
        "    # Extract Features\n",
        "    r = Record(array)\n",
        "    \n",
        "    # Add Features and File Attributes to Dict\n",
        "    if i == 0:\n",
        "      #   File Metadata\n",
        "      d['Filepath']   = []\n",
        "      d['CAN_Id']     = []\n",
        "      d['CAN_PhyLen'] = []\n",
        "      d['CAN_PhyMat'] = []\n",
        "      d['CAN_RecId']  = []\n",
        "      #   Feature Data\n",
        "      for feature_name in r.headers:\n",
        "        d[feature_name]   = []\n",
        "\n",
        "    # Build data table\n",
        "    for k in np.arange(r.total_rec):\n",
        "      for j in np.arange(len(r.headers)):\n",
        "        d[r.headers[j]].append(r.features[j][k])\n",
        "      d['Filepath'].append(filepath)\n",
        "      d['CAN_Id'].append(id)\n",
        "      d['CAN_PhyLen'].append(pl)\n",
        "      d['CAN_PhyMat'].append(pm)\n",
        "      d['CAN_RecId'].append(filename[-2])\n",
        "\n",
        "  df = pd.DataFrame.from_dict(d)\n",
        "  df.to_pickle(pkl_path)\n",
        "\n",
        "print('\\nDataFrame Object:\\n')\n",
        "print(df.info())"
      ],
      "execution_count": 10,
      "outputs": [
        {
          "output_type": "stream",
          "text": [
            "\n",
            "--- Extract Features ---\n",
            "\n",
            "\n",
            "DataFrame Object:\n",
            "\n",
            "<class 'pandas.core.frame.DataFrame'>\n",
            "RangeIndex: 943 entries, 0 to 942\n",
            "Data columns (total 40 columns):\n",
            " #   Column                  Non-Null Count  Dtype  \n",
            "---  ------                  --------------  -----  \n",
            " 0   Filepath                943 non-null    object \n",
            " 1   CAN_Id                  943 non-null    object \n",
            " 2   CAN_PhyLen              943 non-null    object \n",
            " 3   CAN_PhyMat              943 non-null    object \n",
            " 4   CAN_RecId               943 non-null    object \n",
            " 5   Dom_Peak_Time           943 non-null    float64\n",
            " 6   Dom_Steady_State_Value  943 non-null    float64\n",
            " 7   Dom_Steady_State_Error  943 non-null    float64\n",
            " 8   Dom_Percent_Overshoot   943 non-null    float64\n",
            " 9   Dom_Settling_Time       943 non-null    float64\n",
            " 10  Dom_Rise_Time           943 non-null    float64\n",
            " 11  Dom_Delay_Time          943 non-null    float64\n",
            " 12  Dom_Spectral_Bin_0      943 non-null    float64\n",
            " 13  Dom_Spectral_Bin_1      943 non-null    float64\n",
            " 14  Dom_Spectral_Bin_2      943 non-null    float64\n",
            " 15  Dom_Spectral_Bin_3      943 non-null    float64\n",
            " 16  Dom_Spectral_Bin_4      943 non-null    float64\n",
            " 17  Dom_Spectral_Bin_5      943 non-null    float64\n",
            " 18  Dom_Spectral_Bin_6      943 non-null    float64\n",
            " 19  Dom_Spectral_Bin_7      943 non-null    float64\n",
            " 20  Dom_Spectral_Bin_8      943 non-null    float64\n",
            " 21  Dom_Spectral_Bin_9      943 non-null    float64\n",
            " 22  Dom_SNR                 943 non-null    float64\n",
            " 23  Dom_Mean_Freq           943 non-null    float64\n",
            " 24  Dom_Median_Freq         943 non-null    float64\n",
            " 25  Rec_Peak_Time           943 non-null    float64\n",
            " 26  Rec_Steady_State_Value  943 non-null    float64\n",
            " 27  Rec_Steady_State_Error  943 non-null    float64\n",
            " 28  Rec_Percent_Overshoot   943 non-null    float64\n",
            " 29  Rec_Settling_Time       943 non-null    float64\n",
            " 30  Rec_Rise_Time           943 non-null    float64\n",
            " 31  Rec_Delay_Time          943 non-null    float64\n",
            " 32  Rec_Spectral_Bin_0      943 non-null    float64\n",
            " 33  Rec_Spectral_Bin_1      943 non-null    float64\n",
            " 34  Rec_Spectral_Bin_2      943 non-null    float64\n",
            " 35  Rec_Spectral_Bin_3      943 non-null    float64\n",
            " 36  Rec_Spectral_Bin_4      943 non-null    float64\n",
            " 37  Rec_SNR                 943 non-null    float64\n",
            " 38  Rec_Mean_Freq           943 non-null    float64\n",
            " 39  Rec_Median_Freq         943 non-null    float64\n",
            "dtypes: float64(35), object(5)\n",
            "memory usage: 294.8+ KB\n",
            "None\n"
          ],
          "name": "stdout"
        }
      ]
    },
    {
      "cell_type": "markdown",
      "metadata": {
        "id": "4uJC8Nv8vNay"
      },
      "source": [
        "# IV. Prepare Training and Test Datasets"
      ]
    },
    {
      "cell_type": "code",
      "metadata": {
        "id": "CeDp9qpC2OZq",
        "colab": {
          "base_uri": "https://localhost:8080/"
        },
        "outputId": "78247dab-9e48-48d9-a3eb-6fbb75d81c53"
      },
      "source": [
        "### IV. Prepare Traininf and Test Datasets ###\n",
        "print('\\n--- Training and Test Datasets ---\\n')\n",
        "\n",
        "# Attribute and Label Datasets\n",
        "\n",
        "## Full, Dom, Rec\n",
        "X = df.iloc[:,5:]     # Full feature set                                        0.0%\n",
        "\n",
        "y = df.iloc[:,1]\n",
        "\n",
        "# Change Labels from Categorical to Numerical values\n",
        "\n",
        "from sklearn import preprocessing\n",
        "le = preprocessing.LabelEncoder()\n",
        "Y = le.fit_transform(y)\n",
        "\n",
        "# Train-Test Split (70/30)\n",
        "\n",
        "from sklearn.model_selection import train_test_split\n",
        "# X_train, X_test, Y_train, Y_test = train_test_split(X, Y, test_size=0.3, random_state=4)    # Apples to Apples Debugging\n",
        "X_train, X_test, Y_train, Y_test = train_test_split(X, Y, test_size=0.3)\n",
        "\n",
        "# Feature Scaling\n",
        "\n",
        "from sklearn.preprocessing import StandardScaler\n",
        "scaler = StandardScaler()\n",
        "scaler.fit(X_train)\n",
        "\n",
        "X_train = scaler.transform(X_train)\n",
        "X_test  = scaler.transform(X_test)\n",
        "\n",
        "print('Training Input:\\n')\n",
        "print('    %s: %s' %(X_train.dtype, X_train.shape))\n",
        "print('\\nTraining Output:\\n')\n",
        "print('    %s: %s' %(Y_train.dtype, Y_train.shape))\n",
        "print('\\nTest Input:\\n')\n",
        "print('    %s: %s' %(X_test.dtype, X_test.shape))\n",
        "print('\\nTest Output:\\n')\n",
        "print('    %s: %s' %(Y_test.dtype, Y_test.shape))"
      ],
      "execution_count": null,
      "outputs": [
        {
          "output_type": "stream",
          "text": [
            "\n",
            "--- Training and Test Datasets ---\n",
            "\n",
            "Training Input:\n",
            "\n",
            "    float64: (660, 35)\n",
            "\n",
            "Training Output:\n",
            "\n",
            "    int64: (660,)\n",
            "\n",
            "Test Input:\n",
            "\n",
            "    float64: (283, 35)\n",
            "\n",
            "Test Output:\n",
            "\n",
            "    int64: (283,)\n"
          ],
          "name": "stdout"
        }
      ]
    },
    {
      "cell_type": "markdown",
      "metadata": {
        "id": "-lRACGL4-aS1"
      },
      "source": [
        "# V. Train Neural Network"
      ]
    },
    {
      "cell_type": "code",
      "metadata": {
        "id": "rd-tO8GV-ayX",
        "colab": {
          "base_uri": "https://localhost:8080/"
        },
        "outputId": "52fd8130-175c-4956-8779-2b94c2710d4b"
      },
      "source": [
        "### V. Train Neural Network ###\n",
        "print('\\n--- Neural Network Training ---\\n')\n",
        "\n",
        "from sklearn.neural_network import MLPClassifier\n",
        "mlp = MLPClassifier(hidden_layer_sizes=([3*len(df),]), max_iter=2000)\n",
        "mlp.fit(X_train, Y_train.ravel())\n",
        "Y_pred = mlp.predict(X_test)\n",
        "print('Hidden Layer Nodes:    ',len(mlp.coefs_[1]))\n",
        "print('Neural Network Solver: ',mlp.solver)"
      ],
      "execution_count": null,
      "outputs": [
        {
          "output_type": "stream",
          "text": [
            "\n",
            "--- Neural Network Training ---\n",
            "\n",
            "Hidden Layer Nodes:     2829\n",
            "Neural Network Solver:  adam\n"
          ],
          "name": "stdout"
        }
      ]
    },
    {
      "cell_type": "markdown",
      "metadata": {
        "id": "FybmJ6H_-kfm"
      },
      "source": [
        "# VI. Produce Confusion Matrix"
      ]
    },
    {
      "cell_type": "code",
      "metadata": {
        "colab": {
          "base_uri": "https://localhost:8080/",
          "height": 537
        },
        "id": "afL2scAt-kxo",
        "outputId": "38d851ca-4a4a-45c2-bb06-7f9f954b4923"
      },
      "source": [
        "### VI. Produce Confusion Matrix ###\n",
        "print('\\n--- Confusion Matrix ---\\n')\n",
        "\n",
        "cm = sm.confusion_matrix(Y_test, Y_pred)\n",
        "tr = cm.size       # Total Records\n",
        "np.sum(cm, axis=0) # Column Sum     (Horizontal Result)\n",
        "np.sum(cm, axis=1) # Row Sum        (Vertical Result)\n",
        "np.trace(cm)       # Diagonal Sum   (Total Result)\n",
        "\n",
        "df_cm = pd.DataFrame(cm, y.unique(), y.unique())\n",
        "sn.set(font_scale=1.4) # for label size\n",
        "sn.heatmap(df_cm, annot=True, annot_kws={\"size\": 12}) # font size\n",
        "plt.xlabel(\"Prediction\", fontsize = 12)\n",
        "plt.ylabel(\"Actual\", fontsize = 12)\n",
        "\n",
        "plt.show()\n",
        "\n",
        "print('')\n",
        "print(cm)"
      ],
      "execution_count": null,
      "outputs": [
        {
          "output_type": "stream",
          "text": [
            "\n",
            "--- Confusion Matrix ---\n",
            "\n"
          ],
          "name": "stdout"
        },
        {
          "output_type": "display_data",
          "data": {
            "image/png": "[encoded data removed]",
            "text/plain": [
              "<Figure size 432x288 with 2 Axes>"
            ]
          },
          "metadata": {}
        },
        {
          "output_type": "stream",
          "text": [
            "\n",
            "[[19  0  0  5  0  0  0  0]\n",
            " [ 0 38  0  0  0  0  0  0]\n",
            " [ 0  0 40  0  0  0  0  0]\n",
            " [ 5  0  0 36  0  2  0  0]\n",
            " [ 0  0  0  0 31  0  0  0]\n",
            " [ 1  1  0  0  0 32  0  0]\n",
            " [ 1  1  0  0  0  2 32  0]\n",
            " [ 0  0  0  0  0  0  0 37]]\n"
          ],
          "name": "stdout"
        }
      ]
    },
    {
      "cell_type": "markdown",
      "metadata": {
        "id": "W7YXBmra6d-R"
      },
      "source": [
        "# VII. Evaluate Peformance Metrics"
      ]
    },
    {
      "cell_type": "code",
      "metadata": {
        "colab": {
          "base_uri": "https://localhost:8080/",
          "height": 523
        },
        "id": "odn09ZykmZeB",
        "outputId": "f6366df7-4c51-42b1-b9db-04e888cda6a7"
      },
      "source": [
        "### VII. Evaluate Performance Metrics ###\n",
        "print('\\n--- Performance Metrics ---\\n')\n",
        "\n",
        "def perf_metrics(cm, report=False):\n",
        "\n",
        "  cm_acc = []\n",
        "  cm_pre = []\n",
        "  cm_rec = []\n",
        "  cm_f1s = []\n",
        "  cm_err = []\n",
        "\n",
        "  if report:\n",
        "    print('[ ECU_Id | Accuracy | Precision | Recall | F1 Score | Error ]')\n",
        "    print('=========|==========|===========|========|==========|========')\n",
        "\n",
        "  for i in np.arange(len(cm)):\n",
        "    cm_working = cm.copy()\n",
        "    idx = np.concatenate((np.arange(0,i),np.arange(-len(cm)+i+1,0)))\n",
        "\n",
        "    tp = cm_working[i,i]\n",
        "    fn = cm_working[i,idx]; fn = np.sum(fn)\n",
        "    fp = cm_working[idx,i]; fp = np.sum(fp)\n",
        "\n",
        "    cm_working[i,i] = 0\n",
        "    cm_working[i,idx] = 0\n",
        "    cm_working[idx,i] = 0\n",
        "\n",
        "    tn = np.sum(cm_working)\n",
        "\n",
        "    acc = (tp + tn)/(tp + tn + fp + fn)\n",
        "    err = 1-acc\n",
        "    pre = tp/(tp + fp)\n",
        "    rec = tp/(tp + fn)\n",
        "    f1s = 2*(pre*rec)/(pre+rec)\n",
        "\n",
        "    cm_acc.append(acc)\n",
        "    cm_pre.append(pre)\n",
        "    cm_rec.append(rec)\n",
        "    cm_f1s.append(f1s)\n",
        "    cm_err.append(err)\n",
        "\n",
        "    if report:\n",
        "      print('[%7s | %8.3f | %9.3f | %6.3f | %8.3f | %5.3f ]' \\\n",
        "            % (y.unique()[i], acc, pre, rec, f1s, err))\n",
        "\n",
        "  return cm_acc, cm_pre, cm_rec, cm_f1s, cm_err\n",
        "\n",
        "acc, pre, rec, f1s, err = perf_metrics(cm, True)\n",
        "\n",
        "# Plot results\n",
        "\n",
        "bw = 0.15   # Box plot bar width\n",
        "\n",
        "p1 = np.arange(len(acc))    # Category x-axis positions\n",
        "p2 = [x + bw for x in p1]\n",
        "p3 = [x + bw for x in p2]\n",
        "p4 = [x + bw for x in p3]\n",
        "p5 = [x + bw for x in p4]\n",
        "\n",
        "print('') \n",
        "plt.bar(p1, acc, width=bw)\n",
        "plt.bar(p2, pre, width=bw)\n",
        "plt.bar(p3, rec, width=bw)\n",
        "plt.bar(p4, f1s, width=bw)\n",
        "plt.bar(p5, err, width=bw)\n",
        " \n",
        "plt.xticks([p + bw for p in range(len(acc))], y.unique(), fontsize = 10)\n",
        "plt.legend(['Accuracy','Precision','Recall','F1 Score','Error'], fontsize = 10, bbox_to_anchor = (1, 0.67))"
      ],
      "execution_count": null,
      "outputs": [
        {
          "output_type": "stream",
          "text": [
            "\n",
            "--- Performance Metrics ---\n",
            "\n",
            "[ ECU_Id | Accuracy | Precision | Recall | F1 Score | Error ]\n",
            "=========|==========|===========|========|==========|========\n",
            "[   CAN1 |    0.958 |     0.731 |  0.792 |    0.760 | 0.042 ]\n",
            "[   CAN2 |    0.993 |     0.950 |  1.000 |    0.974 | 0.007 ]\n",
            "[   CAN3 |    1.000 |     1.000 |  1.000 |    1.000 | 0.000 ]\n",
            "[   CAN5 |    0.958 |     0.878 |  0.837 |    0.857 | 0.042 ]\n",
            "[   CAN6 |    1.000 |     1.000 |  1.000 |    1.000 | 0.000 ]\n",
            "[  CAN91 |    0.979 |     0.889 |  0.941 |    0.914 | 0.021 ]\n",
            "[  CAN92 |    0.986 |     1.000 |  0.889 |    0.941 | 0.014 ]\n",
            "[  CAN93 |    1.000 |     1.000 |  1.000 |    1.000 | 0.000 ]\n",
            "\n"
          ],
          "name": "stdout"
        },
        {
          "output_type": "execute_result",
          "data": {
            "text/plain": [
              "<matplotlib.legend.Legend at 0x7f603172d290>"
            ]
          },
          "metadata": {},
          "execution_count": 7
        },
        {
          "output_type": "display_data",
          "data": {
            "image/png": "[encoded data removed]",
            "text/plain": [
              "<Figure size 432x288 with 1 Axes>"
            ]
          },
          "metadata": {}
        }
      ]
    },
    {
      "cell_type": "markdown",
      "metadata": {
        "id": "G--CjU0dee9m"
      },
      "source": [
        "# Appendix I. Neural Network Hyperparameter Testing"
      ]
    },
    {
      "cell_type": "code",
      "metadata": {
        "colab": {
          "base_uri": "https://localhost:8080/",
          "height": 1000
        },
        "id": "ktOITWUUEPm9",
        "outputId": "5ab87ca6-7e76-4da8-ac38-02a5eb3cbf2a"
      },
      "source": [
        "### IV. Prepare Training and Test Datasets ###\n",
        "print('\\n--- Training and Test Datasets ---\\n')\n",
        "\n",
        "# Attribute and Label Datasets\n",
        "\n",
        "## Full, Spectral, Contrl, Dom, Rec                                                                     Acc %\n",
        "X = df.iloc[:,5:]                                                               # Full feature set    98.76%\n",
        "# X = df.iloc[:,[12,13,14,15,16,17,18,19,20,21,22,23,24,32,33,34,35,36,37,38,39]] # Spectral Only       97.26%\n",
        "# X = df.iloc[:,[5,6,7,8,9,10,11,25,26,27,28,29,30,31]]                           # Control Only        97.17%\n",
        "# X = df.iloc[:, 5:24]                                                            # Dominant Only       98.14%\n",
        "# X = df.iloc[:,25:39]                                                            # Recessive Only      96.73%\n",
        "\n",
        "## Spectral Features (sorted by Accuracy)\n",
        "# X = df.iloc[:,[22,37]]                                                          # SNR                 95.23%\n",
        "# X = df.iloc[:,[23,38]]                                                          # Mean Freq           94.96%\n",
        "# X = df.iloc[:,[12,13,14,15,16,17,18,19,20,21,32,33,34,35,36]]                   # Spectral Density    92.93%\n",
        "# X = df.iloc[:,[24,39]]                                                          # Median Freq         91.34%\n",
        "\n",
        "## Spectral Features (added by rank)\n",
        "# X = df.iloc[:,[22,37]]                                                          # SNR                 95.23% [ ]\n",
        "# X = df.iloc[:,[22,23,37,38]]                                                    #  + Mean Freq        97.35% [+] <<<\n",
        "# X = df.iloc[:,[12,13,14,15,16,17,18,19,20,21,22,23,32,33,34,35,36,37,38]]       #  + Spectral Density 97.26% [-]\n",
        "# X = df.iloc[:,[12,13,14,15,16,17,18,19,20,21,22,23,32,33,34,35,36,37,38]]       #  + Median Freq      97.26% [-]\n",
        "\n",
        "## Control Features (sorted by Accuracy)\n",
        "# X = df.iloc[:,[ 8,28]]                                                          # Steady State Value  95.23%\n",
        "# X = df.iloc[:,[ 9,29]]                                                          # Steady State Error  95.05%\n",
        "# X = df.iloc[:,[ 6,26]]                                                          # Percent Overshoot   91.52%\n",
        "# X = df.iloc[:,[ 7,27]]                                                          # Settling Time       91.52%\n",
        "# X = df.iloc[:,[10,30]]                                                          # Rise Time           83.48%\n",
        "# X = df.iloc[:,[11,31]]                                                          # Delay Time          81.89%\n",
        "# X = df.iloc[:,[ 5,25]]                                                          # Peak Time           80.12%\n",
        "\n",
        "## Control Features (added by rank)\n",
        "# X = df.iloc[:,[8,28]]                                                           # SSV                 95.23% [ ]\n",
        "# X = df.iloc[:,[8,9,28,29]]                                                      #  + SSE              97.70% [+]\n",
        "# X = df.iloc[:,[6,8,9,26,28,29]]                                                 #  + %OS              98.32% [+] <<<\n",
        "# X = df.iloc[:,[6,7,8,9,26,27,28,29]]                                            #  + Ts               98.32% [=]\n",
        "# X = df.iloc[:,[6,7,8,9,10,26,27,28,29,30]]                                      #  + Tr               97.26  [-]\n",
        "# X = df.iloc[:,[6,7,8,9,10,11,26,27,28,29,30,31]]                                #  + Td               97.17% [-]\n",
        "# X = df.iloc[:,[ 5,25]]                                                          #  + Tp               97.17% [=]\n",
        "\n",
        "## All Features (added by rank)\n",
        "# X = df.iloc[:,[22,37]]                                                                   # SNR                95.23% [ ]\n",
        "# X = df.iloc[:,[8,22,28,37]]                                                              #  + SSV             97.53% [+]\n",
        "# X = df.iloc[:,[8,9,22,28,29,37]]                                                         #  + SSE             97.97% [+]\n",
        "# X = df.iloc[:,[8,9,22,23,28,29,37,38]]                                                   #  + Mean Freq.      98.59% [+]\n",
        "# X = df.iloc[:,[6,8,9,22,23,26,28,29,37,38]]                                              #  + %OS             98.94% [+] <<<\n",
        "# X = df.iloc[:,[6,7,8,9,22,23,26,27,28,29,37,38]]                                         #  + Ts              98.85% [-]\n",
        "# X = df.iloc[:,[6,7,8,9,22,23,24,26,27,28,29,37,38,39]]                                   #  + Med. Freq.      98.67% [-]\n",
        "# X = df.iloc[:,[6,8,9,12,13,14,15,16,17,18,19,20,21,22,23,26,28,29,32,33,34,35,36,37,38]] #  + SD              98.32% [-]\n",
        "# X = df.iloc[:,[10,30]]                                                                   #  + Tr              ...\n",
        "# X = df.iloc[:,[11,31]]                                                                   #  + Td              ...\n",
        "# X = df.iloc[:,[ 5,25]]                                                                   #  + Tp              ...\n",
        "\n",
        "## Final Feature Set: (Control) SSV, SSE, %OS (Spectral) SNR, Mean Freq.\n",
        "# X = df.iloc[:,[6,8,9,22,23,26,28,29,37,38]]                                     # 99.12%\n",
        "\n",
        "# Testing Results\n",
        "y = df.iloc[:,1]\n",
        "\n",
        "# Change Labels from Categorical to Numerical values\n",
        "from sklearn import preprocessing\n",
        "le = preprocessing.LabelEncoder()\n",
        "Y = le.fit_transform(y)\n",
        "\n",
        "# Train-Test Split (70/30)\n",
        "from sklearn.model_selection import train_test_split\n",
        "# X_train, X_test, Y_train, Y_test = train_test_split(X, Y, test_size=0.3, random_state=0)    # Apples to Apples Debugging\n",
        "X_train, X_test, Y_train, Y_test = train_test_split(X, Y, test_size=0.3)\n",
        "\n",
        "# Feature Scaling\n",
        "from sklearn.preprocessing import StandardScaler\n",
        "scaler = StandardScaler()\n",
        "scaler.fit(X_train)\n",
        "\n",
        "X_train = scaler.transform(X_train)\n",
        "X_test  = scaler.transform(X_test)\n",
        "\n",
        "# Print Training/Test Set Details\n",
        "print('Training Input:\\n')\n",
        "print('    %s: %s' %(X_train.dtype, X_train.shape))\n",
        "print('\\nTraining Output:\\n')\n",
        "print('    %s: %s' %(Y_train.dtype, Y_train.shape))\n",
        "print('\\nTest Input:\\n')\n",
        "print('    %s: %s' %(X_test.dtype, X_test.shape))\n",
        "print('\\nTest Output:\\n')\n",
        "print('    %s: %s' %(Y_test.dtype, Y_test.shape))\n",
        "\n",
        "### V. Train Neural Network ###\n",
        "print('\\n--- Neural Network Training ---\\n')\n",
        "\n",
        "from sklearn.neural_network import MLPClassifier\n",
        "\n",
        "# hls = np.round(3*len(df)).astype(int)\n",
        "hls = 500\n",
        "mit = 3000\n",
        "\n",
        "mlp = MLPClassifier(hidden_layer_sizes=([hls,]),   max_iter=mit)\n",
        "mlp.fit(X_train, Y_train.ravel())\n",
        "Y_pred = mlp.predict(X_test)\n",
        "print('Hidden Layer Nodes:    ',len(mlp.coefs_[1]))\n",
        "print('Neural Network Solver: ',mlp.solver)\n",
        "\n",
        "### VI. Produce Confusion Matrix ###\n",
        "print('\\n--- Confusion Matrix ---\\n')\n",
        "\n",
        "cm = sm.confusion_matrix(Y_test, Y_pred)\n",
        "tr = cm.size       # Total Records\n",
        "np.sum(cm, axis=0) # Column Sum     (Horizontal Result)\n",
        "np.sum(cm, axis=1) # Row Sum        (Vertical Result)\n",
        "np.trace(cm)       # Diagonal Sum   (Total Result)\n",
        "\n",
        "df_cm = pd.DataFrame(cm, y.unique(), y.unique())\n",
        "sn.set(font_scale=1.4) # for label size\n",
        "sn.heatmap(df_cm, annot=True, annot_kws={\"size\": 12}) # font size\n",
        "plt.xlabel(\"Prediction\", fontsize = 12)\n",
        "plt.ylabel(\"Actual\", fontsize = 12)\n",
        "\n",
        "plt.show()\n",
        "\n",
        "print('')\n",
        "print(cm)\n",
        "\n",
        "### VII. Evaluate Performance Metrics ###\n",
        "print('\\n--- Performance Metrics ---\\n')\n",
        "\n",
        "def perf_metrics(cm, report=False):\n",
        "\n",
        "  cm_acc = []\n",
        "  cm_pre = []\n",
        "  cm_rec = []\n",
        "  cm_f1s = []\n",
        "  cm_err = []\n",
        "\n",
        "  if report:\n",
        "    print('[ ECU_Id | Accuracy | Precision | Recall | F1 Score | Error ]')\n",
        "    print('=========|==========|===========|========|==========|========')\n",
        "\n",
        "  for i in np.arange(len(cm)):\n",
        "    cm_working = cm.copy()\n",
        "    idx = np.concatenate((np.arange(0,i),np.arange(-len(cm)+i+1,0)))\n",
        "\n",
        "    tp = cm_working[i,i]\n",
        "    fn = cm_working[i,idx]; fn = np.sum(fn)\n",
        "    fp = cm_working[idx,i]; fp = np.sum(fp)\n",
        "\n",
        "    cm_working[i,i] = 0\n",
        "    cm_working[i,idx] = 0\n",
        "    cm_working[idx,i] = 0\n",
        "\n",
        "    tn = np.sum(cm_working)\n",
        "\n",
        "    acc = (tp + tn)/(tp + tn + fp + fn)\n",
        "    err = 1-acc\n",
        "    pre = tp/(tp + fp)\n",
        "    rec = tp/(tp + fn)\n",
        "    f1s = 2*(pre*rec)/(pre+rec)\n",
        "\n",
        "    cm_acc.append(acc)\n",
        "    cm_pre.append(pre)\n",
        "    cm_rec.append(rec)\n",
        "    cm_f1s.append(f1s)\n",
        "    cm_err.append(err)\n",
        "\n",
        "    if report:\n",
        "      print('[%7s | %8.3f | %9.3f | %6.3f | %8.3f | %5.3f ]' \\\n",
        "            % (y.unique()[i], acc, pre, rec, f1s, err))\n",
        "\n",
        "  return cm_acc, cm_pre, cm_rec, cm_f1s, cm_err\n",
        "\n",
        "acc, pre, rec, f1s, err = perf_metrics(cm, True)\n",
        "\n",
        "# Plot results\n",
        "\n",
        "bw = 0.15   # Box plot bar width\n",
        "\n",
        "p1 = np.arange(len(acc))    # Category x-axis positions\n",
        "p2 = [x + bw for x in p1]\n",
        "p3 = [x + bw for x in p2]\n",
        "p4 = [x + bw for x in p3]\n",
        "p5 = [x + bw for x in p4]\n",
        "\n",
        "print('') \n",
        "plt.bar(p1, acc, width=bw)\n",
        "plt.bar(p2, pre, width=bw)\n",
        "plt.bar(p3, rec, width=bw)\n",
        "plt.bar(p4, f1s, width=bw)\n",
        "plt.bar(p5, err, width=bw)\n",
        " \n",
        "plt.xticks([p + bw for p in range(len(acc))], y.unique(), fontsize = 10)\n",
        "plt.legend(['Accuracy','Precision','Recall','F1 Score','Error'], fontsize = 10, bbox_to_anchor = (1, 0.67))\n",
        "\n",
        "acc_avg = np.average(acc)*100\n",
        "pre_avg = np.average(pre)*100\n",
        "rec_avg = np.average(rec)*100\n",
        "f1s_avg = np.average(f1s)*100\n",
        "err_avg = np.average(err)*100\n",
        "\n",
        "print('%2.2f %2.2f %2.2f %2.2f %2.2f' % (acc_avg, pre_avg, rec_avg, f1s_avg, err_avg))"
      ],
      "execution_count": null,
      "outputs": [
        {
          "output_type": "stream",
          "text": [
            "\n",
            "--- Training and Test Datasets ---\n",
            "\n",
            "Training Input:\n",
            "\n",
            "    float64: (660, 35)\n",
            "\n",
            "Training Output:\n",
            "\n",
            "    int64: (660,)\n",
            "\n",
            "Test Input:\n",
            "\n",
            "    float64: (283, 35)\n",
            "\n",
            "Test Output:\n",
            "\n",
            "    int64: (283,)\n",
            "\n",
            "--- Neural Network Training ---\n",
            "\n",
            "Hidden Layer Nodes:     500\n",
            "Neural Network Solver:  adam\n",
            "\n",
            "--- Confusion Matrix ---\n",
            "\n"
          ],
          "name": "stdout"
        },
        {
          "output_type": "display_data",
          "data": {
            "image/png": "[encoded data removed]",
            "text/plain": [
              "<Figure size 432x288 with 2 Axes>"
            ]
          },
          "metadata": {}
        },
        {
          "output_type": "stream",
          "text": [
            "\n",
            "[[34  0  0  5  0  0  0  0]\n",
            " [ 0 24  0  0  1  0  1  0]\n",
            " [ 0  1 36  0  0  0  0  0]\n",
            " [ 7  0  0 33  0  0  1  0]\n",
            " [ 0  0  0  0 32  0  0  0]\n",
            " [ 3  0  0  1  0 34  0  0]\n",
            " [ 1  0  0  0  0  0 31  0]\n",
            " [ 0  0  0  0  0  0  0 38]]\n",
            "\n",
            "--- Performance Metrics ---\n",
            "\n",
            "[ ECU_Id | Accuracy | Precision | Recall | F1 Score | Error ]\n",
            "=========|==========|===========|========|==========|========\n",
            "[   CAN1 |    0.943 |     0.756 |  0.872 |    0.810 | 0.057 ]\n",
            "[   CAN2 |    0.989 |     0.960 |  0.923 |    0.941 | 0.011 ]\n",
            "[   CAN3 |    0.996 |     1.000 |  0.973 |    0.986 | 0.004 ]\n",
            "[   CAN5 |    0.951 |     0.846 |  0.805 |    0.825 | 0.049 ]\n",
            "[   CAN6 |    0.996 |     0.970 |  1.000 |    0.985 | 0.004 ]\n",
            "[  CAN91 |    0.986 |     1.000 |  0.895 |    0.944 | 0.014 ]\n",
            "[  CAN92 |    0.989 |     0.939 |  0.969 |    0.954 | 0.011 ]\n",
            "[  CAN93 |    1.000 |     1.000 |  1.000 |    1.000 | 0.000 ]\n",
            "\n",
            "98.14 93.39 92.95 93.06 1.86\n"
          ],
          "name": "stdout"
        },
        {
          "output_type": "display_data",
          "data": {
            "image/png": "[encoded data removed]",
            "text/plain": [
              "<Figure size 432x288 with 1 Axes>"
            ]
          },
          "metadata": {}
        }
      ]
    },
    {
      "cell_type": "code",
      "metadata": {
        "colab": {
          "base_uri": "https://localhost:8080/",
          "height": 484
        },
        "id": "DTV0M2Jo2CAb",
        "outputId": "9f9fa1a6-89ec-4f5a-f4d1-af56454904dc"
      },
      "source": [
        "# Plot results (using custom statistics)\n",
        "\n",
        "bw = 0.15   # Box plot bar width\n",
        "\n",
        "p1 = 0\n",
        "p2 = p1 + bw\n",
        "p3 = p2 + bw\n",
        "p4 = p3 + bw\n",
        "p5 = p4 + bw\n",
        "\n",
        "# Optimal Method 2 Featureset\n",
        "\n",
        "acc = 98.76\n",
        "pre = 95.06\n",
        "rec = 95.10\n",
        "f1s = 95.01\n",
        "err = 1.24\n",
        "\n",
        "fig, ax = plt.subplots()\n",
        "# ax.set_facecolor(\"white\")\n",
        "plt.bar(p1, acc, width=bw)\n",
        "plt.bar(p2, pre, width=bw)\n",
        "plt.bar(p3, rec, width=bw)\n",
        "plt.bar(p4, f1s, width=bw)\n",
        "plt.bar(p5, err, width=bw)\n",
        "\n",
        "plt.title('Performance Metrics\\n(Features: SSV,  SSE, %OS, SNR, Mean Freq.)') \n",
        "plt.legend(['Accuracy','Precision','Recall','F1 Score','Error'], fontsize = 10, bbox_to_anchor = (1, 0.67))\n",
        "# plt.grid(False)\n",
        "\n",
        "plt.xticks([p1,p2,p3,p4,p5], [acc,pre,rec,f1s,err])"
      ],
      "execution_count": null,
      "outputs": [
        {
          "output_type": "execute_result",
          "data": {
            "text/plain": [
              "([<matplotlib.axis.XTick at 0x7f6031bfb0d0>,\n",
              "  <matplotlib.axis.XTick at 0x7f6031bfbed0>,\n",
              "  <matplotlib.axis.XTick at 0x7f60316e0910>,\n",
              "  <matplotlib.axis.XTick at 0x7f6031596590>,\n",
              "  <matplotlib.axis.XTick at 0x7f6031528410>],\n",
              " [Text(0, 0, '98.76'),\n",
              "  Text(0, 0, '95.06'),\n",
              "  Text(0, 0, '95.1'),\n",
              "  Text(0, 0, '95.01'),\n",
              "  Text(0, 0, '1.24')])"
            ]
          },
          "metadata": {},
          "execution_count": 9
        },
        {
          "output_type": "display_data",
          "data": {
            "image/png": "[encoded data removed]",
            "text/plain": [
              "<Figure size 432x288 with 1 Axes>"
            ]
          },
          "metadata": {}
        }
      ]
    },
    {
      "cell_type": "code",
      "metadata": {
        "colab": {
          "base_uri": "https://localhost:8080/",
          "height": 501
        },
        "id": "8-3_4dea2FsI",
        "outputId": "1102233e-0113-4bf4-f75e-87a9dd3ef2cf"
      },
      "source": [
        "# Full Method 2 Featureset\n",
        "\n",
        "acc = 98.28\n",
        "pre = 93.22\n",
        "rec = 93.17\n",
        "f1s = 93.07\n",
        "err = 1.72\n",
        "\n",
        "print('') \n",
        "plt.bar(p1, acc, width=bw)\n",
        "plt.bar(p2, pre, width=bw)\n",
        "plt.bar(p3, rec, width=bw)\n",
        "plt.bar(p4, f1s, width=bw)\n",
        "plt.bar(p5, err, width=bw)\n",
        "\n",
        "plt.title('Performance Metrics\\n(Features: All Control + Spectral)') \n",
        "plt.legend(['Accuracy','Precision','Recall','F1 Score','Error'], fontsize = 10, bbox_to_anchor = (1, 0.67))\n",
        "plt.xticks([p1,p2,p3,p4,p5], [acc,pre,rec,f1s,err])"
      ],
      "execution_count": null,
      "outputs": [
        {
          "output_type": "stream",
          "text": [
            "\n"
          ],
          "name": "stdout"
        },
        {
          "output_type": "execute_result",
          "data": {
            "text/plain": [
              "([<matplotlib.axis.XTick at 0x7f6031d35a50>,\n",
              "  <matplotlib.axis.XTick at 0x7f6031519590>,\n",
              "  <matplotlib.axis.XTick at 0x7f60315191d0>,\n",
              "  <matplotlib.axis.XTick at 0x7f60314cddd0>,\n",
              "  <matplotlib.axis.XTick at 0x7f60314d65d0>],\n",
              " [Text(0, 0, '98.28'),\n",
              "  Text(0, 0, '93.22'),\n",
              "  Text(0, 0, '93.17'),\n",
              "  Text(0, 0, '93.07'),\n",
              "  Text(0, 0, '1.72')])"
            ]
          },
          "metadata": {},
          "execution_count": 10
        },
        {
          "output_type": "display_data",
          "data": {
            "image/png": "[encoded data removed]",
            "text/plain": [
              "<Figure size 432x288 with 1 Axes>"
            ]
          },
          "metadata": {}
        }
      ]
    },
    {
      "cell_type": "code",
      "metadata": {
        "id": "_NDoqabD7vw_",
        "colab": {
          "base_uri": "https://localhost:8080/",
          "height": 431
        },
        "outputId": "b302e91e-20aa-4fcf-a504-cf94031bbfd3"
      },
      "source": [
        "plt.rcdefaults()\n",
        "fig, ax = plt.subplots(figsize=(3, 4))\n",
        "\n",
        "# Example data\n",
        "labels = ('%OS', 'SSE', 'Ts' , 'SSV', 'Tr' , 'Td' , 'Tp')\n",
        "y_pos = np.arange(len(labels))\n",
        "avg = [94.44, 91.52, 90.74, 90.10, 82.69, 82.41, 80.98]\n",
        "\n",
        "for i in np.arange(len(y_pos)):\n",
        "  ax.barh(y_pos[i], avg[i])\n",
        "ax.set_yticks(y_pos)\n",
        "ax.set_yticklabels(labels)\n",
        "ax.invert_yaxis()  # labels read top-to-bottom\n",
        "ax.set_xlabel('Performance')\n",
        "ax.set_title('Step Response Parameters\\n(Ranked by Accuracy)')\n",
        "for index, value in enumerate(avg):\n",
        "    plt.text(105, index+0.1,\n",
        "             '%2.2f%%' % value)\n",
        "plt.xlim((0,100))\n",
        "\n",
        "plt.show()"
      ],
      "execution_count": null,
      "outputs": [
        {
          "output_type": "display_data",
          "data": {
            "image/png": "[encoded data removed]",
            "text/plain": [
              "<Figure size 300x400 with 1 Axes>"
            ]
          },
          "metadata": {}
        }
      ]
    }
  ]
}